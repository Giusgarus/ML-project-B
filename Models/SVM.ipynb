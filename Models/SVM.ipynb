{
 "cells": [
  {
   "cell_type": "markdown",
   "metadata": {},
   "source": [
    "## Imports"
   ]
  },
  {
   "cell_type": "code",
   "execution_count": 288,
   "metadata": {},
   "outputs": [],
   "source": [
    "from sklearn.svm import SVC\n",
    "from sklearn.metrics import classification_report, accuracy_score, precision_score\n",
    "import pandas as pd\n",
    "from sklearn.preprocessing import OneHotEncoder\n",
    "from sklearn.model_selection import StratifiedKFold\n",
    "import numpy as np\n",
    "from sklearn.model_selection import train_test_split\n",
    "import itertools"
   ]
  },
  {
   "cell_type": "markdown",
   "metadata": {},
   "source": [
    "## Utils"
   ]
  },
  {
   "cell_type": "code",
   "execution_count": 289,
   "metadata": {},
   "outputs": [],
   "source": [
    "def generate_hyperparameter_combinations(param_ranges):\n",
    "    \"\"\"\n",
    "    Genera tutte le combinazioni di iperparametri basate su range e step specificati.\n",
    "\n",
    "    :param param_ranges: Dizionario con i nomi degli iperparametri come chiavi.\n",
    "                         Ogni valore è una tupla (start, stop, step).\n",
    "    :return: Lista di dizionari con tutte le combinazioni possibili.\n",
    "    \"\"\"\n",
    "    param_values = {\n",
    "        key: np.arange(start, stop + step, step)\n",
    "        for key, (start, stop, step) in param_ranges.items()\n",
    "    }\n",
    "    \n",
    "    param_combinations = list(itertools.product(*param_values.values()))\n",
    "    return [\n",
    "        dict(zip(param_values.keys(), combination))\n",
    "        for combination in param_combinations\n",
    "    ]"
   ]
  },
  {
   "cell_type": "markdown",
   "metadata": {},
   "source": [
    "## Data load"
   ]
  },
  {
   "cell_type": "code",
   "execution_count": 290,
   "metadata": {},
   "outputs": [],
   "source": [
    "# One-hot encoding\n",
    "encoder = OneHotEncoder(categories='auto', sparse_output=False)\n",
    "\n",
    "# Carica i file di addestramento e test per ciascun dataset dal percorso specificato\n",
    "monk1_train = pd.read_csv('../Datasets/Monks/monks-1.train', sep='\\s+', header=None)\n",
    "monk1_test = pd.read_csv('../Datasets/Monks/monks-1.test', sep='\\s+', header=None)\n",
    "\n",
    "monk2_train = pd.read_csv('../Datasets/Monks/monks-2.train', sep='\\s+', header=None)\n",
    "monk2_test = pd.read_csv('../Datasets/Monks/monks-2.test', sep='\\s+', header=None)\n",
    "\n",
    "monk3_train = pd.read_csv('../Datasets/Monks/monks-3.train', sep='\\s+', header=None)\n",
    "monk3_test = pd.read_csv('../Datasets/Monks/monks-3.test', sep='\\s+', header=None)\n",
    "\n",
    "\n",
    "# Lista per memorizzare i dataset trasformati\n",
    "monks_train = []\n",
    "monks_test = []\n",
    "\n",
    "\n",
    "# Dataset monk1\n",
    "X1_train = monk1_train.iloc[:, 1:7].values  # Caratteristiche\n",
    "y1_train = monk1_train.iloc[:, 0].values    # Etichette\n",
    "\n",
    "X1_test = monk1_test.iloc[:, 1:7].values\n",
    "y1_test = monk1_test.iloc[:, 0].values\n",
    "\n",
    "# Applicazione dell'encoder a monk1\n",
    "X1_train_encoded = encoder.fit_transform(X1_train)  # Fit e trasformazione sui dati di training\n",
    "X1_test_encoded = encoder.transform(X1_test)        # Solo trasformazione sui dati di test\n",
    "\n",
    "monks_train.append((X1_train_encoded, y1_train))\n",
    "monks_test.append((X1_test_encoded, y1_test))\n",
    "\n",
    "# Dataset monk2\n",
    "X2_train = monk2_train.iloc[:, 1:7].values\n",
    "y2_train = monk2_train.iloc[:, 0].values\n",
    "\n",
    "X2_test = monk2_test.iloc[:, 1:7].values\n",
    "y2_test = monk2_test.iloc[:, 0].values\n",
    "\n",
    "# Applicazione dell'encoder a monk2\n",
    "X2_train_encoded = encoder.fit_transform(X2_train)\n",
    "X2_test_encoded = encoder.transform(X2_test)\n",
    "\n",
    "monks_train.append((X2_train_encoded, y2_train))\n",
    "monks_test.append((X2_test_encoded, y2_test))\n",
    "\n",
    "# Dataset monk3\n",
    "X3_train = monk3_train.iloc[:, 1:7].values\n",
    "y3_train = monk3_train.iloc[:, 0].values\n",
    "\n",
    "X3_test = monk3_test.iloc[:, 1:7].values\n",
    "y3_test = monk3_test.iloc[:, 0].values\n",
    "\n",
    "# Applicazione dell'encoder a monk3\n",
    "X3_train_encoded = encoder.fit_transform(X3_train)\n",
    "X3_test_encoded = encoder.transform(X3_test)\n",
    "\n",
    "monks_train.append((X3_train_encoded, y3_train))\n",
    "monks_test.append((X3_test_encoded, y3_test))"
   ]
  },
  {
   "cell_type": "markdown",
   "metadata": {},
   "source": [
    "## Model creation"
   ]
  },
  {
   "cell_type": "code",
   "execution_count": 291,
   "metadata": {},
   "outputs": [],
   "source": [
    "def create_SVM(C = 100, type = 'rbf'):\n",
    "    return SVC(kernel= type, C=C, random_state=42)"
   ]
  },
  {
   "cell_type": "markdown",
   "metadata": {},
   "source": [
    "## K-fold cross validation"
   ]
  },
  {
   "cell_type": "code",
   "execution_count": 292,
   "metadata": {},
   "outputs": [],
   "source": [
    "def k_fold_cross_validation(data, labels, type = 'rbf',params=None):\n",
    "    # 3. Configurazione della k-fold cross-validation\n",
    "    kfold = StratifiedKFold(n_splits=5, shuffle=True, random_state=42)\n",
    "\n",
    "    # 4. Ciclo di cross-validation\n",
    "    fold_no = 1\n",
    "    accuracy_per_fold = []\n",
    "    for train_index, val_index in kfold.split(data, labels):\n",
    "        \n",
    "        # Suddivisione del dataset\n",
    "        X_train, X_val = data[train_index], data[val_index]\n",
    "        y_train, y_val = labels[train_index], labels[val_index]\n",
    "\n",
    "        # Creazione della rete neurale\n",
    "        model = create_SVM(C=params['C'],type = type)\n",
    "\n",
    "        # Addestramento con EarlyStopping\n",
    "        model.fit(X_train, y_train)\n",
    "\n",
    "        pred = model.predict(X_val)\n",
    "        # Prendi il miglior score (l'accuratezza di validazione massima)\n",
    "        score =accuracy_score(pred, y_val)\n",
    "        accuracy_per_fold.append(score)    \n",
    "        fold_no += 1\n",
    "\n",
    "    avg_score = np.mean(accuracy_per_fold)\n",
    "\n",
    "\n",
    "    _ , X_val, _ , y_val = train_test_split(data, labels, test_size=0.2, random_state=42)\n",
    "\n",
    "     # Creazione della rete neurale\n",
    "    model = create_SVM(C=params['C'], type = type)\n",
    "\n",
    "    # Addestramento con EarlyStopping\n",
    "    model.fit(data, labels)\n",
    "\n",
    "    return avg_score, model"
   ]
  },
  {
   "cell_type": "markdown",
   "metadata": {},
   "source": [
    "## Greed search"
   ]
  },
  {
   "cell_type": "code",
   "execution_count": 293,
   "metadata": {},
   "outputs": [],
   "source": [
    "def greed_search(data, labels, type = 'rbf', param_grid = None):\n",
    "    best_scores = []  # Usa una lista normale per memorizzare i punteggi\n",
    "    best_params_list = []  # Lista per le configurazioni\n",
    "    best_models = []  # Lista per i modelli\n",
    "    \n",
    "    for params in param_grid:\n",
    "        \n",
    "        score, model = k_fold_cross_validation(data, labels, type, params=params)\n",
    "\n",
    "        # Aggiungi i risultati alla lista\n",
    "        best_scores.append(score)\n",
    "        best_params_list.append(params)\n",
    "        best_models.append(model)\n",
    "\n",
    "        # Ordina la lista dei punteggi e mantieni solo i migliori 10\n",
    "        sorted_indices = np.argsort(best_scores)[::-1]  # Ordina i punteggi in ordine decrescente\n",
    "        best_scores = [best_scores[i] for i in sorted_indices][:5]  # Usa la lista e mantieni i top 10\n",
    "        best_params_list = [best_params_list[i] for i in sorted_indices][:5]\n",
    "        best_models = [best_models[i] for i in sorted_indices][:5]\n",
    "\n",
    "    return best_scores, best_params_list, best_models"
   ]
  },
  {
   "cell_type": "markdown",
   "metadata": {},
   "source": [
    "## Model selection"
   ]
  },
  {
   "cell_type": "code",
   "execution_count": 294,
   "metadata": {},
   "outputs": [],
   "source": [
    "def selection(data, labels):\n",
    "\n",
    "    # Definizione dei range degli iperparametri\n",
    "    param_ranges = {\n",
    "        \"C\": (1, 1000, 10),  # Da 0.01 a 0.5 con step di 0.05\n",
    "    }\n",
    "\n",
    "    print(\"Generazione delle combinazioni di iperparametri...\")\n",
    "    param_grid = []\n",
    "    param_grid = generate_hyperparameter_combinations(param_ranges)\n",
    "\n",
    "\n",
    "    best_scores = []  # Usa una lista normale per memorizzare i punteggi\n",
    "    best_params_list = []  # Lista per le configurazioni\n",
    "    best_models = []  # Lista per i modelli\n",
    "    best_types = []\n",
    "\n",
    "\n",
    "    #np.random.choice(param_grid, size=12, replace=False)\n",
    "    # Seleziona 100 elementi a caso senza rimpiazzamento\n",
    "    types = ['linear', 'poly', 'rbf', 'sigmoid']\n",
    "    for type in types:\n",
    "        actual_scores , actual_params_list, actual_models = greed_search(data, labels, type, param_grid)\n",
    "\n",
    "        best_scores.extend(actual_scores)\n",
    "        best_params_list.extend(actual_params_list)\n",
    "        best_models.extend(actual_models)\n",
    "        best_types.extend([type]*len(actual_scores))\n",
    "\n",
    "         # Ordina la lista dei punteggi e mantieni solo i migliori 10\n",
    "        sorted_indices = np.argsort(best_scores)[::-1]  # Ordina i punteggi in ordine decrescente\n",
    "        best_scores = [best_scores[i] for i in sorted_indices][:5]  # Usa la lista e mantieni i top 10\n",
    "        best_params_list = [best_params_list[i] for i in sorted_indices][:5]\n",
    "        best_models = [best_models[i] for i in sorted_indices][:5]\n",
    "        best_types = [best_types[i] for i in sorted_indices][:5]\n",
    "    \n",
    "    for i in range(len(best_scores)):\n",
    "        print(f\"Score: {best_scores[i]}, type: {best_types[i]}, parametri: {best_params_list[i]}\")\n",
    "\n",
    "    return best_scores, best_params_list, best_models\n"
   ]
  },
  {
   "cell_type": "code",
   "execution_count": 295,
   "metadata": {},
   "outputs": [
    {
     "name": "stdout",
     "output_type": "stream",
     "text": [
      "-----------------MONK1-----------------\n",
      "Generazione delle combinazioni di iperparametri...\n",
      "Score: 0.9596666666666666, type: poly, parametri: {'C': 31}\n",
      "Score: 0.9596666666666666, type: poly, parametri: {'C': 11}\n",
      "Score: 0.9596666666666666, type: poly, parametri: {'C': 21}\n",
      "Score: 0.9596666666666666, type: poly, parametri: {'C': 41}\n",
      "Score: 0.9596666666666666, type: poly, parametri: {'C': 1001}\n",
      "-----------------MONK2-----------------\n",
      "Generazione delle combinazioni di iperparametri...\n",
      "Score: 0.7103386809269162, type: poly, parametri: {'C': 31}\n",
      "Score: 0.7103386809269162, type: poly, parametri: {'C': 11}\n",
      "Score: 0.7103386809269162, type: poly, parametri: {'C': 21}\n",
      "Score: 0.7103386809269162, type: poly, parametri: {'C': 41}\n",
      "Score: 0.7103386809269162, type: poly, parametri: {'C': 1001}\n",
      "-----------------MONK3-----------------\n",
      "Generazione delle combinazioni di iperparametri...\n",
      "Score: 0.9343333333333333, type: linear, parametri: {'C': 21}\n",
      "Score: 0.9343333333333333, type: linear, parametri: {'C': 1}\n",
      "Score: 0.9343333333333333, type: linear, parametri: {'C': 11}\n",
      "Score: 0.9343333333333333, type: linear, parametri: {'C': 31}\n",
      "Score: 0.9343333333333333, type: rbf, parametri: {'C': 1}\n"
     ]
    }
   ],
   "source": [
    "print(\"-----------------MONK1-----------------\")\n",
    "_, _,best_models_monk_1 = selection(monks_train[0][0], monks_train[0][1])\n",
    "print(\"-----------------MONK2-----------------\")\n",
    "_, _,best_models_monk_2 = selection(monks_train[1][0], monks_train[1][1])\n",
    "print(\"-----------------MONK3-----------------\")\n",
    "_, _,best_models_monk_3 = selection(monks_train[2][0], monks_train[2][1])"
   ]
  },
  {
   "cell_type": "markdown",
   "metadata": {},
   "source": [
    "## Model assessment"
   ]
  },
  {
   "cell_type": "code",
   "execution_count": 296,
   "metadata": {},
   "outputs": [
    {
     "name": "stdout",
     "output_type": "stream",
     "text": [
      "Accuracy: 1.0\n",
      "\n",
      "Classification Report:\n",
      "               precision    recall  f1-score   support\n",
      "\n",
      "           0       1.00      1.00      1.00       216\n",
      "           1       1.00      1.00      1.00       216\n",
      "\n",
      "    accuracy                           1.00       432\n",
      "   macro avg       1.00      1.00      1.00       432\n",
      "weighted avg       1.00      1.00      1.00       432\n",
      "\n"
     ]
    }
   ],
   "source": [
    "# 5. Valutazione del modello\n",
    "y1_pred = best_models_monk_1[0].predict(X1_test_encoded)\n",
    "\n",
    "# 6. Report dei risultati\n",
    "print(\"Accuracy:\", accuracy_score(y1_test, y1_pred))\n",
    "print(\"\\nClassification Report:\\n\", classification_report(y1_test, y1_pred))"
   ]
  },
  {
   "cell_type": "code",
   "execution_count": 297,
   "metadata": {},
   "outputs": [
    {
     "name": "stdout",
     "output_type": "stream",
     "text": [
      "Accuracy: 0.7731481481481481\n",
      "\n",
      "Classification Report:\n",
      "               precision    recall  f1-score   support\n",
      "\n",
      "           0       0.88      0.77      0.82       290\n",
      "           1       0.62      0.77      0.69       142\n",
      "\n",
      "    accuracy                           0.77       432\n",
      "   macro avg       0.75      0.77      0.76       432\n",
      "weighted avg       0.79      0.77      0.78       432\n",
      "\n"
     ]
    }
   ],
   "source": [
    "# 5. Valutazione del modello\n",
    "y2_pred = best_models_monk_2[0].predict(X2_test_encoded)\n",
    "\n",
    "# 6. Report dei risultati\n",
    "print(\"Accuracy:\", accuracy_score(y2_test, y2_pred))\n",
    "print(\"\\nClassification Report:\\n\", classification_report(y2_test, y2_pred))"
   ]
  },
  {
   "cell_type": "code",
   "execution_count": 298,
   "metadata": {},
   "outputs": [
    {
     "name": "stdout",
     "output_type": "stream",
     "text": [
      "Accuracy: 0.9722222222222222\n",
      "\n",
      "Classification Report:\n",
      "               precision    recall  f1-score   support\n",
      "\n",
      "           0       0.94      1.00      0.97       204\n",
      "           1       1.00      0.95      0.97       228\n",
      "\n",
      "    accuracy                           0.97       432\n",
      "   macro avg       0.97      0.97      0.97       432\n",
      "weighted avg       0.97      0.97      0.97       432\n",
      "\n"
     ]
    }
   ],
   "source": [
    "y3_pred = best_models_monk_3[0].predict(X3_test_encoded)\n",
    "\n",
    "# 6. Report dei risultati\n",
    "print(\"Accuracy:\", accuracy_score(y3_test, y3_pred))\n",
    "print(\"\\nClassification Report:\\n\", classification_report(y3_test, y3_pred))"
   ]
  }
 ],
 "metadata": {
  "kernelspec": {
   "display_name": "ML2",
   "language": "python",
   "name": "python3"
  },
  "language_info": {
   "codemirror_mode": {
    "name": "ipython",
    "version": 3
   },
   "file_extension": ".py",
   "mimetype": "text/x-python",
   "name": "python",
   "nbconvert_exporter": "python",
   "pygments_lexer": "ipython3",
   "version": "3.11.11"
  }
 },
 "nbformat": 4,
 "nbformat_minor": 2
}
