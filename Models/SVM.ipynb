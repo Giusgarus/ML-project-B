{
 "cells": [
  {
   "cell_type": "markdown",
   "metadata": {},
   "source": [
    "## Imports"
   ]
  },
  {
   "cell_type": "code",
   "execution_count": 321,
   "metadata": {},
   "outputs": [],
   "source": [
    "from sklearn.svm import SVC\n",
    "from sklearn.metrics import classification_report, accuracy_score, precision_score\n",
    "import pandas as pd\n",
    "from sklearn.preprocessing import OneHotEncoder\n",
    "from sklearn.model_selection import StratifiedKFold\n",
    "import numpy as np\n",
    "from sklearn.model_selection import train_test_split\n",
    "import itertools"
   ]
  },
  {
   "cell_type": "markdown",
   "metadata": {},
   "source": [
    "## Utils"
   ]
  },
  {
   "cell_type": "code",
   "execution_count": 322,
   "metadata": {},
   "outputs": [],
   "source": [
    "def generate_hyperparameter_combinations(param_ranges):\n",
    "    '''\n",
    "    Parameters:\n",
    "    param_ranges (dict): Dictionary with hyperparameter names as keys.\n",
    "                         Each value is a tuple (start, stop, step) indicating the range and step size for the hyperparameter.\n",
    "    Returns:\n",
    "    list: List of dictionaries with all possible combinations of hyperparameters.\n",
    "    '''\n",
    "    param_values = {\n",
    "        key: np.arange(start, stop + step, step)\n",
    "        for key, (start, stop, step) in param_ranges.items()\n",
    "    }\n",
    "    \n",
    "    param_combinations = list(itertools.product(*param_values.values()))\n",
    "    return [\n",
    "        dict(zip(param_values.keys(), combination))\n",
    "        for combination in param_combinations\n",
    "    ]"
   ]
  },
  {
   "cell_type": "markdown",
   "metadata": {},
   "source": [
    "## Data load"
   ]
  },
  {
   "cell_type": "code",
   "execution_count": 323,
   "metadata": {},
   "outputs": [],
   "source": [
    "# One-hot encoding\n",
    "encoder = OneHotEncoder(categories='auto', sparse_output=False)\n",
    "\n",
    "# Load training and test files for each dataset from the specified path\n",
    "monk1_train = pd.read_csv('../Datasets/Monks/monks-1.train', sep='\\s+', header=None)\n",
    "monk1_test = pd.read_csv('../Datasets/Monks/monks-1.test', sep='\\s+', header=None)\n",
    "\n",
    "monk2_train = pd.read_csv('../Datasets/Monks/monks-2.train', sep='\\s+', header=None)\n",
    "monk2_test = pd.read_csv('../Datasets/Monks/monks-2.test', sep='\\s+', header=None)\n",
    "\n",
    "monk3_train = pd.read_csv('../Datasets/Monks/monks-3.train', sep='\\s+', header=None)\n",
    "monk3_test = pd.read_csv('../Datasets/Monks/monks-3.test', sep='\\s+', header=None)\n",
    "\n",
    "# List to store the transformed datasets\n",
    "monks_train = []\n",
    "monks_test = []\n",
    "\n",
    "# Dataset monk1\n",
    "X1_train = monk1_train.iloc[:, 1:7].values  # Features\n",
    "y1_train = monk1_train.iloc[:, 0].values    # Labels\n",
    "\n",
    "X1_test = monk1_test.iloc[:, 1:7].values\n",
    "y1_test = monk1_test.iloc[:, 0].values\n",
    "\n",
    "# Apply encoder to monk1\n",
    "X1_train_encoded = encoder.fit_transform(X1_train)  # Fit and transform on training data\n",
    "X1_test_encoded = encoder.transform(X1_test)        # Only transform on test data\n",
    "\n",
    "monks_train.append((X1_train_encoded, y1_train))\n",
    "monks_test.append((X1_test_encoded, y1_test))\n",
    "\n",
    "# Dataset monk2\n",
    "X2_train = monk2_train.iloc[:, 1:7].values\n",
    "y2_train = monk2_train.iloc[:, 0].values\n",
    "\n",
    "X2_test = monk2_test.iloc[:, 1:7].values\n",
    "y2_test = monk2_test.iloc[:, 0].values\n",
    "\n",
    "# Apply encoder to monk2\n",
    "X2_train_encoded = encoder.fit_transform(X2_train)\n",
    "X2_test_encoded = encoder.transform(X2_test)\n",
    "\n",
    "monks_train.append((X2_train_encoded, y2_train))\n",
    "monks_test.append((X2_test_encoded, y2_test))\n",
    "\n",
    "# Dataset monk3\n",
    "X3_train = monk3_train.iloc[:, 1:7].values\n",
    "y3_train = monk3_train.iloc[:, 0].values\n",
    "\n",
    "X3_test = monk3_test.iloc[:, 1:7].values\n",
    "y3_test = monk3_test.iloc[:, 0].values\n",
    "\n",
    "# Apply encoder to monk3\n",
    "X3_train_encoded = encoder.fit_transform(X3_train)\n",
    "X3_test_encoded = encoder.transform(X3_test)\n",
    "\n",
    "monks_train.append((X3_train_encoded, y3_train))\n",
    "monks_test.append((X3_test_encoded, y3_test))\n"
   ]
  },
  {
   "cell_type": "markdown",
   "metadata": {},
   "source": [
    "## Model creation"
   ]
  },
  {
   "cell_type": "code",
   "execution_count": 324,
   "metadata": {},
   "outputs": [],
   "source": [
    "def create_SVM(C=100, type='rbf'):\n",
    "    '''\n",
    "    Create an SVM model with the specified kernel type and regularization parameter C.\n",
    "    param C: Regularization parameter.\n",
    "    param type: Kernel type for SVM.\n",
    "    return: SVM model.\n",
    "    '''\n",
    "    return SVC(kernel=type, C=C, random_state=42)"
   ]
  },
  {
   "cell_type": "markdown",
   "metadata": {},
   "source": [
    "## K-fold cross validation"
   ]
  },
  {
   "cell_type": "code",
   "execution_count": 325,
   "metadata": {},
   "outputs": [],
   "source": [
    "def k_fold_cross_validation(data, labels, type='rbf', params=None):\n",
    "    '''\n",
    "    Perform k-fold cross-validation for SVM.\n",
    "    param data: Feature data.\n",
    "    param labels: Target labels.\n",
    "    param type: Kernel type for SVM.\n",
    "    param params: Dictionary of hyperparameters.\n",
    "    return: Average score and trained model.\n",
    "    '''\n",
    "    # 3. Configure k-fold cross-validation\n",
    "    kfold = StratifiedKFold(n_splits=10, shuffle=True, random_state=42)\n",
    "\n",
    "    # 4. Cross-validation loop\n",
    "    fold_no = 1\n",
    "    accuracy_per_fold = []\n",
    "    for train_index, val_index in kfold.split(data, labels):\n",
    "        \n",
    "        # Split the dataset\n",
    "        X_train, X_val = data[train_index], data[val_index]\n",
    "        y_train, y_val = labels[train_index], labels[val_index]\n",
    "\n",
    "        # Create the SVM model\n",
    "        model = create_SVM(C=params['C'], type=type)\n",
    "\n",
    "        # Train the model\n",
    "        model.fit(X_train, y_train)\n",
    "\n",
    "        # Predict on validation set\n",
    "        pred = model.predict(X_val)\n",
    "        \n",
    "        # Get the accuracy score\n",
    "        score = accuracy_score(pred, y_val)\n",
    "        accuracy_per_fold.append(score)    \n",
    "        fold_no += 1\n",
    "\n",
    "    # Calculate the average score\n",
    "    avg_score = np.mean(accuracy_per_fold)\n",
    "\n",
    "    # Split the dataset for final training\n",
    "    _, X_val, _, y_val = train_test_split(data, labels, test_size=0.2, random_state=42)\n",
    "\n",
    "    # Create the SVM model\n",
    "    model = create_SVM(C=params['C'], type=type)\n",
    "\n",
    "    # Train the model on the entire dataset\n",
    "    model.fit(data, labels)\n",
    "\n",
    "    return avg_score, model"
   ]
  },
  {
   "cell_type": "markdown",
   "metadata": {},
   "source": [
    "## Greed search"
   ]
  },
  {
   "cell_type": "code",
   "execution_count": 326,
   "metadata": {},
   "outputs": [],
   "source": [
    "def greed_search(data, labels, type='rbf', param_grid=None):\n",
    "    '''\n",
    "    Perform greedy search for hyperparameter tuning.\n",
    "    param data: Feature data.\n",
    "    param labels: Target labels.\n",
    "    param type: Kernel type for SVM.\n",
    "    param param_grid: List of hyperparameter combinations.\n",
    "    return: Best scores, best parameter configurations, and best models.\n",
    "    '''\n",
    "    best_scores = []  # List to store the scores\n",
    "    best_params_list = []  # List to store the parameter configurations\n",
    "    best_models = []  # List to store the models\n",
    "    \n",
    "    for params in param_grid:\n",
    "        # Perform k-fold cross-validation\n",
    "        score, model = k_fold_cross_validation(data, labels, type, params=params)\n",
    "\n",
    "        # Add the results to the list\n",
    "        best_scores.append(score)\n",
    "        best_params_list.append(params)\n",
    "        best_models.append(model)\n",
    "\n",
    "        # Sort the list of scores and keep only the top 5\n",
    "        sorted_indices = np.argsort(best_scores)[::-1]  # Sort the scores in descending order\n",
    "        best_scores = [best_scores[i] for i in sorted_indices][:5]  # Keep the top 5 scores\n",
    "        best_params_list = [best_params_list[i] for i in sorted_indices][:5]\n",
    "        best_models = [best_models[i] for i in sorted_indices][:5]\n",
    "\n",
    "    return best_scores, best_params_list, best_models"
   ]
  },
  {
   "cell_type": "markdown",
   "metadata": {},
   "source": [
    "## Model selection"
   ]
  },
  {
   "cell_type": "code",
   "execution_count": 327,
   "metadata": {},
   "outputs": [],
   "source": [
    "def selection(data, labels):\n",
    "    '''\n",
    "    Perform hyperparameter selection for SVM models.\n",
    "    param data: Feature data.\n",
    "    param labels: Target labels.\n",
    "    return: Best scores, best parameter configurations, and best models.\n",
    "    '''\n",
    "\n",
    "    # Define the range of hyperparameters\n",
    "    param_ranges = {\n",
    "        \"C\": (1, 1000, 10),  # From 1 to 1000 with step of 10\n",
    "    }\n",
    "\n",
    "    print(\"Generating hyperparameter combinations...\")\n",
    "    param_grid = generate_hyperparameter_combinations(param_ranges)\n",
    "\n",
    "    best_scores = []  # List to store the scores\n",
    "    best_params_list = []  # List to store the parameter configurations\n",
    "    best_models = []  # List to store the models\n",
    "    best_types = []  # List to store the kernel types\n",
    "\n",
    "    # Define the kernel types to be tested\n",
    "    types = ['linear', 'poly', 'rbf', 'sigmoid']\n",
    "    for type in types:\n",
    "        # Perform greedy search for each kernel type\n",
    "        actual_scores, actual_params_list, actual_models = greed_search(data, labels, type, param_grid)\n",
    "\n",
    "        # Extend the lists with the results from the current kernel type\n",
    "        best_scores.extend(actual_scores)\n",
    "        best_params_list.extend(actual_params_list)\n",
    "        best_models.extend(actual_models)\n",
    "        best_types.extend([type] * len(actual_scores))\n",
    "\n",
    "        # Sort the scores in descending order and keep only the top 5\n",
    "        sorted_indices = np.argsort(best_scores)[::-1]\n",
    "        best_scores = [best_scores[i] for i in sorted_indices][:5]\n",
    "        best_params_list = [best_params_list[i] for i in sorted_indices][:5]\n",
    "        best_models = [best_models[i] for i in sorted_indices][:5]\n",
    "        best_types = [best_types[i] for i in sorted_indices][:5]\n",
    "\n",
    "    # Print the best scores, kernel types, and parameter configurations\n",
    "    for i in range(len(best_scores)):\n",
    "        print(f\"Score: {best_scores[i]}, type: {best_types[i]}, parameters: {best_params_list[i]}\")\n",
    "\n",
    "    return best_scores, best_params_list, best_models\n"
   ]
  },
  {
   "cell_type": "code",
   "execution_count": 328,
   "metadata": {},
   "outputs": [
    {
     "name": "stdout",
     "output_type": "stream",
     "text": [
      "-----------------MONK1-----------------\n",
      "Generating hyperparameter combinations...\n",
      "Score: 0.9839743589743589, type: poly, parameters: {'C': 31}\n",
      "Score: 0.9839743589743589, type: poly, parameters: {'C': 11}\n",
      "Score: 0.9839743589743589, type: poly, parameters: {'C': 1}\n",
      "Score: 0.9839743589743589, type: poly, parameters: {'C': 21}\n",
      "Score: 0.9839743589743589, type: poly, parameters: {'C': 1001}\n",
      "-----------------MONK2-----------------\n",
      "Generating hyperparameter combinations...\n",
      "Score: 0.6753676470588237, type: poly, parameters: {'C': 31}\n",
      "Score: 0.6753676470588237, type: poly, parameters: {'C': 11}\n",
      "Score: 0.6753676470588237, type: poly, parameters: {'C': 21}\n",
      "Score: 0.6753676470588237, type: poly, parameters: {'C': 41}\n",
      "Score: 0.6753676470588237, type: poly, parameters: {'C': 1001}\n",
      "-----------------MONK3-----------------\n",
      "Generating hyperparameter combinations...\n",
      "Score: 0.9333333333333332, type: linear, parameters: {'C': 21}\n",
      "Score: 0.9333333333333332, type: linear, parameters: {'C': 1}\n",
      "Score: 0.9333333333333332, type: linear, parameters: {'C': 11}\n",
      "Score: 0.9333333333333332, type: linear, parameters: {'C': 31}\n",
      "Score: 0.9333333333333332, type: rbf, parameters: {'C': 1}\n"
     ]
    }
   ],
   "source": [
    "\"\"\"\n",
    "This script performs model selection for three different MONK datasets using the `selection` function.\n",
    "\n",
    "The script prints headers for each MONK dataset and then calls the `selection` function with the training data for each dataset.\n",
    "The results of the selection process are stored in variables `best_models_monk_1`, `best_models_monk_2`, and `best_models_monk_3`.\n",
    "\n",
    "Variables:\n",
    "    monks_train (list): A list containing training data for the three MONK datasets.\n",
    "    best_models_monk_1 (object): The best models selected for the MONK1 dataset.\n",
    "    best_models_monk_2 (object): The best models selected for the MONK2 dataset.\n",
    "    best_models_monk_3 (object): The best models selected for the MONK3 dataset.\n",
    "\n",
    "Functions:\n",
    "    selection(X, y): A function that performs model selection given features `X` and labels `y`.\n",
    "\n",
    "Usage:\n",
    "    Run this script to perform model selection on the MONK datasets and obtain the best models for each dataset.\n",
    "\"\"\"\n",
    "\n",
    "print(\"-----------------MONK1-----------------\")\n",
    "_, _, best_models_monk_1 = selection(monks_train[0][0], monks_train[0][1])\n",
    "print(\"-----------------MONK2-----------------\")\n",
    "_, _, best_models_monk_2 = selection(monks_train[1][0], monks_train[1][1])\n",
    "print(\"-----------------MONK3-----------------\")\n",
    "_, _, best_models_monk_3 = selection(monks_train[2][0], monks_train[2][1])"
   ]
  },
  {
   "cell_type": "markdown",
   "metadata": {},
   "source": [
    "## Model assessment"
   ]
  },
  {
   "cell_type": "code",
   "execution_count": 329,
   "metadata": {},
   "outputs": [
    {
     "name": "stdout",
     "output_type": "stream",
     "text": [
      "Accuracy: 1.0\n",
      "\n",
      "Classification Report:\n",
      "               precision    recall  f1-score   support\n",
      "\n",
      "           0       1.00      1.00      1.00       216\n",
      "           1       1.00      1.00      1.00       216\n",
      "\n",
      "    accuracy                           1.00       432\n",
      "   macro avg       1.00      1.00      1.00       432\n",
      "weighted avg       1.00      1.00      1.00       432\n",
      "\n"
     ]
    }
   ],
   "source": [
    "# 5. Model evaluation\n",
    "y1_pred = best_models_monk_1[0].predict(X1_test_encoded)\n",
    "\n",
    "# 6. Report the results\n",
    "print(\"Accuracy:\", accuracy_score(y1_test, y1_pred))\n",
    "print(\"\\nClassification Report:\\n\", classification_report(y1_test, y1_pred))"
   ]
  },
  {
   "cell_type": "code",
   "execution_count": 330,
   "metadata": {},
   "outputs": [
    {
     "name": "stdout",
     "output_type": "stream",
     "text": [
      "Accuracy: 0.7731481481481481\n",
      "\n",
      "Classification Report:\n",
      "               precision    recall  f1-score   support\n",
      "\n",
      "           0       0.88      0.77      0.82       290\n",
      "           1       0.62      0.77      0.69       142\n",
      "\n",
      "    accuracy                           0.77       432\n",
      "   macro avg       0.75      0.77      0.76       432\n",
      "weighted avg       0.79      0.77      0.78       432\n",
      "\n"
     ]
    }
   ],
   "source": [
    "# 5. Model evaluation\n",
    "y2_pred = best_models_monk_2[0].predict(X2_test_encoded)\n",
    "\n",
    "# 6. Report the results\n",
    "print(\"Accuracy:\", accuracy_score(y2_test, y2_pred))\n",
    "print(\"\\nClassification Report:\\n\", classification_report(y2_test, y2_pred))"
   ]
  },
  {
   "cell_type": "code",
   "execution_count": 331,
   "metadata": {},
   "outputs": [
    {
     "name": "stdout",
     "output_type": "stream",
     "text": [
      "Accuracy: 0.9722222222222222\n",
      "\n",
      "Classification Report:\n",
      "               precision    recall  f1-score   support\n",
      "\n",
      "           0       0.94      1.00      0.97       204\n",
      "           1       1.00      0.95      0.97       228\n",
      "\n",
      "    accuracy                           0.97       432\n",
      "   macro avg       0.97      0.97      0.97       432\n",
      "weighted avg       0.97      0.97      0.97       432\n",
      "\n"
     ]
    }
   ],
   "source": [
    "# Predict on the test set for MONK3\n",
    "y3_pred = best_models_monk_3[0].predict(X3_test_encoded)\n",
    "\n",
    "# Report the results\n",
    "print(\"Accuracy:\", accuracy_score(y3_test, y3_pred))\n",
    "print(\"\\nClassification Report:\\n\", classification_report(y3_test, y3_pred))"
   ]
  }
 ],
 "metadata": {
  "kernelspec": {
   "display_name": "ML2",
   "language": "python",
   "name": "python3"
  },
  "language_info": {
   "codemirror_mode": {
    "name": "ipython",
    "version": 3
   },
   "file_extension": ".py",
   "mimetype": "text/x-python",
   "name": "python",
   "nbconvert_exporter": "python",
   "pygments_lexer": "ipython3",
   "version": "3.11.11"
  }
 },
 "nbformat": 4,
 "nbformat_minor": 2
}
