{
 "cells": [
  {
   "cell_type": "markdown",
   "metadata": {},
   "source": [
    "# NN implemetation with Keras"
   ]
  },
  {
   "cell_type": "markdown",
   "metadata": {},
   "source": [
    "## Imports"
   ]
  },
  {
   "cell_type": "code",
   "execution_count": 9,
   "metadata": {},
   "outputs": [],
   "source": [
    "import numpy as np\n",
    "import pandas as pd\n",
    "from sklearn.preprocessing import StandardScaler"
   ]
  },
  {
   "cell_type": "markdown",
   "metadata": {},
   "source": [
    "## Utils functions"
   ]
  },
  {
   "cell_type": "code",
   "execution_count": 10,
   "metadata": {},
   "outputs": [],
   "source": [
    "# Funzione per normalizzare i dati\n",
    "def normalize(data):\n",
    "    scaler = StandardScaler()\n",
    "    normalized_data = scaler.fit_transform(data)\n",
    "    return normalized_data\n"
   ]
  },
  {
   "cell_type": "code",
   "execution_count": 11,
   "metadata": {},
   "outputs": [],
   "source": [
    "def split_data(data, labels, k):\n",
    "    \"\"\"\n",
    "    Divide i dati in k fold.\n",
    "    \n",
    "    Args:\n",
    "        data (np.ndarray | pd.DataFrame): Dati di input.\n",
    "        labels (np.ndarray | pd.Series): Etichette.\n",
    "        k (int): Numero di fold.\n",
    "    \n",
    "    Returns:\n",
    "        list: Lista di tuple (fold_data, fold_labels).\n",
    "    \"\"\"\n",
    "    if not isinstance(data, np.ndarray):\n",
    "        data = data.to_numpy()  # Converte DataFrame in NumPy array\n",
    "    if not isinstance(labels, np.ndarray):\n",
    "        labels = labels.to_numpy()  # Converte Series in NumPy array\n",
    "    \n",
    "    data = normalize(data)\n",
    "\n",
    "    fold_size = len(data) // k\n",
    "    indices = np.arange(len(data))\n",
    "    np.random.shuffle(indices)\n",
    "    folds = []\n",
    "\n",
    "    for i in range(k):\n",
    "        fold_indices = indices[i * fold_size: (i + 1) * fold_size]\n",
    "        fold_data = data[fold_indices]\n",
    "        fold_labels = labels[fold_indices]\n",
    "        folds.append((fold_data, fold_labels))\n",
    "    \n",
    "    return folds"
   ]
  },
  {
   "cell_type": "markdown",
   "metadata": {},
   "source": [
    "## Double-k-fold cross validation"
   ]
  },
  {
   "cell_type": "code",
   "execution_count": null,
   "metadata": {},
   "outputs": [],
   "source": [
    "def double_k_fold_cross_validation(data, labels, in_size = 6, out_size = 1, outer_k = 5, inner_k = 5, param_grid=None):\n",
    "    \"\"\"\n",
    "    Implementa una Double K-Fold Cross-Validation\n",
    "\n",
    "    Args:\n",
    "        data (np.ndarray): Caratteristiche del dataset.\n",
    "        labels (np.ndarray): Etichette del dataset.\n",
    "        outer_k (int): Numero di fold per la validazione esterna.\n",
    "        inner_k (int): Numero di fold per l'ottimizzazione iperparametri.\n",
    "        param_grid (list): Lista di dizionari con gli iperparametri da provare.\n",
    "    \n",
    "    Returns:\n",
    "        list: Lista dei punteggi ottenuti per ogni fold esterno.\n",
    "    \"\"\"\n",
    "    outer_scores = []\n",
    "    outer_params = []\n",
    "    outer_folds = split_data(data, labels, k=outer_k)\n",
    "    \n",
    "    for i in range(outer_k):\n",
    "        print(\"Outer fold\", i + 1)\n",
    "        outer_test_data, outer_test_labels = outer_folds[i]\n",
    "        outer_train_data = np.concatenate([fold[0] for j, fold in enumerate(outer_folds) if j != i])\n",
    "        outer_train_labels = np.concatenate([fold[1] for j, fold in enumerate(outer_folds) if j != i])\n",
    "        \n",
    "        best_params = {}\n",
    "        best_score = -np.inf\n",
    "        \n",
    "        # Validazione interna per ottimizzazione iperparametri\n",
    "        inner_folds = split_data(outer_train_data, outer_train_labels, k=inner_k)\n",
    "\n",
    "        for params in param_grid:\n",
    "            inner_scores = []\n",
    "            \n",
    "            for j in range(inner_k):\n",
    "                inner_val_data, inner_val_labels = inner_folds[j]\n",
    "                inner_train_data = np.concatenate([fold[0] for l, fold in enumerate(inner_folds) if l != j])\n",
    "                inner_train_labels = np.concatenate([fold[1] for l, fold in enumerate(inner_folds) if l != j])\n",
    "                # Creazione della rete neurale\n",
    "                model = NeuralNetwork(input_size = in_size, output_size = out_size, **params)\n",
    "                model.train(inner_train_data, inner_train_labels, inner_val_data, inner_val_labels)\n",
    "                score = evaluate_model(model, inner_val_data, inner_val_labels)\n",
    "                inner_scores.append(score)\n",
    "            \n",
    "            avg_score = np.mean(inner_scores)\n",
    "            if avg_score > best_score:\n",
    "                best_score = avg_score\n",
    "                best_params = params\n",
    "        \n",
    "        # Addestramento finale sul set di train esterno\n",
    "        final_model = NeuralNetwork(input_size = in_size, output_size = out_size, **best_params)\n",
    "        final_model.train(outer_train_data, outer_train_labels, outer_test_data, outer_test_labels)\n",
    "        outer_score = evaluate_model(final_model, outer_test_data, outer_test_labels)\n",
    "        outer_scores.append(outer_score)\n",
    "        outer_params.append(best_params)\n",
    "    \n",
    "    return outer_scores, outer_params"
   ]
  },
  {
   "cell_type": "markdown",
   "metadata": {},
   "source": [
    "## K-fold cross validation"
   ]
  },
  {
   "cell_type": "code",
   "execution_count": null,
   "metadata": {},
   "outputs": [],
   "source": [
    "def k_fold_cross_validation(data, labels, in_size, out_size, params, k=5):\n",
    "    \"\"\"\n",
    "    Implementa una K-Fold Cross-Validation\n",
    "    \"\"\"\n",
    "    scores = []\n",
    "    folds = split_data(data, labels, input_size = 6, output_size = 1, k=k)\n",
    "\n",
    "\n",
    "    for i in range(k):\n",
    "        # Creazione della rete neurale\n",
    "        model = NeuralNetwork(input_size = in_size, output_size = out_size, **params)\n",
    "\n",
    "        test_data, test_labels = folds[i]\n",
    "        train_data = np.concatenate([fold[0] for j, fold in enumerate(folds) if j != i])\n",
    "        train_labels = np.concatenate([fold[1] for j, fold in enumerate(folds) if j != i])\n",
    "        \n",
    "        model.train(train_data, train_labels)\n",
    "        score = evaluate_model(model, test_data, test_labels)\n",
    "        scores.append(score)\n",
    "            \n",
    "    avg_score = np.mean(scores)\n",
    "\n",
    "    train_data = np.concatenate([fold[0] for fold in folds])\n",
    "    train_labels = np.concatenate([fold[1] for fold in folds])\n",
    "\n",
    "    model = NeuralNetwork(input_size=in_size, output_size=out_size, **params)\n",
    "    model.train(train_data, train_labels)\n",
    "    \n",
    "    return avg_score, model"
   ]
  }
 ],
 "metadata": {
  "kernelspec": {
   "display_name": "ML2",
   "language": "python",
   "name": "python3"
  },
  "language_info": {
   "codemirror_mode": {
    "name": "ipython",
    "version": 3
   },
   "file_extension": ".py",
   "mimetype": "text/x-python",
   "name": "python",
   "nbconvert_exporter": "python",
   "pygments_lexer": "ipython3",
   "version": "3.11.11"
  }
 },
 "nbformat": 4,
 "nbformat_minor": 2
}
